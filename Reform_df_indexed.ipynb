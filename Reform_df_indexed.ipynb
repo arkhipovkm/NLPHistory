{
 "cells": [
  {
   "cell_type": "code",
   "execution_count": 1,
   "metadata": {},
   "outputs": [],
   "source": [
    "import s3manager\n",
    "import pandas as pd\n",
    "from pandas import DataFrame, Series"
   ]
  },
  {
   "cell_type": "code",
   "execution_count": 3,
   "metadata": {},
   "outputs": [],
   "source": [
    "df_users = pd.read_pickle('df_users.pickle')\n",
    "df_comments_meta = pd.read_pickle('df_comments_meta.pickle')\n",
    "df_clubs = pd.read_pickle('club_names.pickle')\n",
    "s_rubric_names = pd.read_pickle('rubric_names.pickle')\n",
    "s_club_names = pd.read_pickle('club_names.pickle')"
   ]
  },
  {
   "cell_type": "code",
   "execution_count": 18,
   "metadata": {},
   "outputs": [],
   "source": [
    "objects = []\n",
    "for n in range(len(s_rubric_names[:5])):\n",
    "    key = 'rubrics/old/{}.json'.format(n+1)\n",
    "    js = s3manager._s3_get_object(key)\n",
    "    objects.append(js)"
   ]
  },
  {
   "cell_type": "code",
   "execution_count": null,
   "metadata": {},
   "outputs": [],
   "source": []
  },
  {
   "cell_type": "code",
   "execution_count": 22,
   "metadata": {},
   "outputs": [],
   "source": [
    "datas = []\n",
    "for obj in objects:\n",
    "    group = obj['group']\n",
    "    rubric_id = obj['num']\n",
    "    for comment in obj['comments']:\n",
    "        club_id, post_id, dummy = comment[0][0].split('_')\n",
    "        data = Series(dict(zip(['comment_id', 'user_id', 'rubric_id', 'group', 'text', 'characteristic', 'note', 'club_id', 'post_id'],\n",
    "                        [comment[0][0], comment[1], rubric_id, group, comment[0][1], None, None, club_id, post_id])))\n",
    "        datas.append(data)"
   ]
  },
  {
   "cell_type": "code",
   "execution_count": 31,
   "metadata": {},
   "outputs": [],
   "source": [
    "df = pd.concat([DataFrame([x]) for x in datas], ignore_index=True)\n",
    "df.club_id = df.club_id.astype('int')\n",
    "df = df.join(df_clubs, on='club_id')\n",
    "df = df.join(s_rubric_names, on='rubric_id')"
   ]
  },
  {
   "cell_type": "code",
   "execution_count": null,
   "metadata": {},
   "outputs": [],
   "source": []
  },
  {
   "cell_type": "code",
   "execution_count": 32,
   "metadata": {},
   "outputs": [],
   "source": [
    "df = df.merge(df_users, on='user_id')\n",
    "df = df.join(df_comments_meta, on='comment_id')\n",
    "df_indexed = df.set_index('comment_id')\n",
    "df_indexed.bdate = pd.to_datetime(df_indexed.bdate)\n",
    "#df_indexed.to_pickle('df_indexed.pickle')"
   ]
  },
  {
   "cell_type": "code",
   "execution_count": 33,
   "metadata": {},
   "outputs": [
    {
     "data": {
      "text/html": [
       "<div>\n",
       "<style scoped>\n",
       "    .dataframe tbody tr th:only-of-type {\n",
       "        vertical-align: middle;\n",
       "    }\n",
       "\n",
       "    .dataframe tbody tr th {\n",
       "        vertical-align: top;\n",
       "    }\n",
       "\n",
       "    .dataframe thead th {\n",
       "        text-align: right;\n",
       "    }\n",
       "</style>\n",
       "<table border=\"1\" class=\"dataframe\">\n",
       "  <thead>\n",
       "    <tr style=\"text-align: right;\">\n",
       "      <th></th>\n",
       "      <th>characteristic</th>\n",
       "      <th>club_id</th>\n",
       "      <th>comment_id</th>\n",
       "      <th>group</th>\n",
       "      <th>note</th>\n",
       "      <th>post_id</th>\n",
       "      <th>rubric_id</th>\n",
       "      <th>text</th>\n",
       "      <th>user_id</th>\n",
       "      <th>club_name</th>\n",
       "      <th>rubric_name</th>\n",
       "      <th>first_name</th>\n",
       "      <th>last_name</th>\n",
       "      <th>sex</th>\n",
       "      <th>bdate</th>\n",
       "      <th>country</th>\n",
       "      <th>city</th>\n",
       "      <th>date</th>\n",
       "      <th>likes</th>\n",
       "    </tr>\n",
       "  </thead>\n",
       "  <tbody>\n",
       "  </tbody>\n",
       "</table>\n",
       "</div>"
      ],
      "text/plain": [
       "Empty DataFrame\n",
       "Columns: [characteristic, club_id, comment_id, group, note, post_id, rubric_id, text, user_id, club_name, rubric_name, first_name, last_name, sex, bdate, country, city, date, likes]\n",
       "Index: []"
      ]
     },
     "execution_count": 33,
     "metadata": {},
     "output_type": "execute_result"
    }
   ],
   "source": [
    "df"
   ]
  }
 ],
 "metadata": {
  "kernelspec": {
   "display_name": "Python 3",
   "language": "python",
   "name": "python3"
  },
  "language_info": {
   "codemirror_mode": {
    "name": "ipython",
    "version": 3
   },
   "file_extension": ".py",
   "mimetype": "text/x-python",
   "name": "python",
   "nbconvert_exporter": "python",
   "pygments_lexer": "ipython3",
   "version": "3.6.4"
  }
 },
 "nbformat": 4,
 "nbformat_minor": 2
}
