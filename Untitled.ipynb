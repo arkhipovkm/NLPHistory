{
 "cells": [
  {
   "cell_type": "code",
   "execution_count": 6,
   "metadata": {},
   "outputs": [],
   "source": [
    "import pandas as pd\n",
    "import numpy as np"
   ]
  },
  {
   "cell_type": "code",
   "execution_count": 7,
   "metadata": {
    "scrolled": false
   },
   "outputs": [],
   "source": [
    "df = pd.read_pickle('df_indexed.pickle')\n",
    "rubric_id = 3\n",
    "ddf = df[df.rubric_id==rubric_id].sort_values(by=['likes'], ascending=False).drop_duplicates()\n",
    "ddf['age'] = (ddf.date - ddf.bdate).dt.days/365\n",
    "\n",
    "max_likes = int(max(ddf.likes))\n",
    "mean_likes = int(np.mean(ddf.likes))\n",
    "\n",
    "total_raw = len(ddf)\n",
    "ddf = ddf.reset_index()\n",
    "\n",
    "ddf.date = ddf.date.dt.strftime('%Y-%m-%d')\n",
    "ddf = ddf.drop('bdate', axis=1)\n",
    "group_name = ddf.group.unique()\n",
    "group_name"
   ]
  },
  {
   "cell_type": "code",
   "execution_count": null,
   "metadata": {},
   "outputs": [],
   "source": []
  },
  {
   "cell_type": "code",
   "execution_count": 9,
   "metadata": {},
   "outputs": [],
   "source": [
    "ddf = ddf.reset_index()\n",
    "\n",
    "ddf.date = ddf.date.dt.strftime('%Y-%m-%d')\n",
    "ddf = ddf.drop('bdate', axis=1)"
   ]
  },
  {
   "cell_type": "code",
   "execution_count": 10,
   "metadata": {},
   "outputs": [
    {
     "data": {
      "text/html": [
       "<div>\n",
       "<style scoped>\n",
       "    .dataframe tbody tr th:only-of-type {\n",
       "        vertical-align: middle;\n",
       "    }\n",
       "\n",
       "    .dataframe tbody tr th {\n",
       "        vertical-align: top;\n",
       "    }\n",
       "\n",
       "    .dataframe thead th {\n",
       "        text-align: right;\n",
       "    }\n",
       "</style>\n",
       "<table border=\"1\" class=\"dataframe\">\n",
       "  <thead>\n",
       "    <tr style=\"text-align: right;\">\n",
       "      <th></th>\n",
       "      <th>comment_id</th>\n",
       "      <th>characteristic</th>\n",
       "      <th>club_id</th>\n",
       "      <th>group</th>\n",
       "      <th>note</th>\n",
       "      <th>post_id</th>\n",
       "      <th>rubric_id</th>\n",
       "      <th>text</th>\n",
       "      <th>user_id</th>\n",
       "      <th>club_name</th>\n",
       "      <th>first_name</th>\n",
       "      <th>last_name</th>\n",
       "      <th>sex</th>\n",
       "      <th>country</th>\n",
       "      <th>city</th>\n",
       "      <th>date</th>\n",
       "      <th>likes</th>\n",
       "      <th>age</th>\n",
       "    </tr>\n",
       "  </thead>\n",
       "  <tbody>\n",
       "    <tr>\n",
       "      <th>0</th>\n",
       "      <td>29534144_3880487_3881571</td>\n",
       "      <td>None</td>\n",
       "      <td>29534144</td>\n",
       "      <td>СОВЕТСКИЙ ПАНТЕОН</td>\n",
       "      <td>None</td>\n",
       "      <td>3880487</td>\n",
       "      <td>3</td>\n",
       "      <td>\"И было предсказано, что от союза большевиков ...</td>\n",
       "      <td>86410130</td>\n",
       "      <td>Лентач</td>\n",
       "      <td>Aleksey</td>\n",
       "      <td>Apenkin</td>\n",
       "      <td>2</td>\n",
       "      <td>1</td>\n",
       "      <td>586</td>\n",
       "      <td>2016-04-19</td>\n",
       "      <td>383.0</td>\n",
       "      <td>23.473973</td>\n",
       "    </tr>\n",
       "    <tr>\n",
       "      <th>1</th>\n",
       "      <td>29534144_4478979_4479424</td>\n",
       "      <td>None</td>\n",
       "      <td>29534144</td>\n",
       "      <td>СОВЕТСКИЙ ПАНТЕОН</td>\n",
       "      <td>None</td>\n",
       "      <td>4478979</td>\n",
       "      <td>3</td>\n",
       "      <td>Живёшь такой в элитной квартире в столице в це...</td>\n",
       "      <td>20112623</td>\n",
       "      <td>Лентач</td>\n",
       "      <td>Никита</td>\n",
       "      <td>Журавлёв</td>\n",
       "      <td>2</td>\n",
       "      <td>1</td>\n",
       "      <td>60</td>\n",
       "      <td>2016-06-17</td>\n",
       "      <td>337.0</td>\n",
       "      <td>21.964384</td>\n",
       "    </tr>\n",
       "    <tr>\n",
       "      <th>2</th>\n",
       "      <td>29534144_7913733_7913752</td>\n",
       "      <td>None</td>\n",
       "      <td>29534144</td>\n",
       "      <td>СОВЕТСКИЙ ПАНТЕОН</td>\n",
       "      <td>None</td>\n",
       "      <td>7913733</td>\n",
       "      <td>3</td>\n",
       "      <td>Был меньшевиком, стал большевиком)) раз</td>\n",
       "      <td>35701127</td>\n",
       "      <td>Лентач</td>\n",
       "      <td>Владимир</td>\n",
       "      <td>Мокренко</td>\n",
       "      <td>2</td>\n",
       "      <td>1</td>\n",
       "      <td>10</td>\n",
       "      <td>2017-12-27</td>\n",
       "      <td>223.0</td>\n",
       "      <td>25.235616</td>\n",
       "    </tr>\n",
       "    <tr>\n",
       "      <th>3</th>\n",
       "      <td>29534144_5644674_5644861</td>\n",
       "      <td>None</td>\n",
       "      <td>29534144</td>\n",
       "      <td>СОВЕТСКИЙ ПАНТЕОН</td>\n",
       "      <td>None</td>\n",
       "      <td>5644674</td>\n",
       "      <td>3</td>\n",
       "      <td>\"они умерли для того,  чтобы мы сделали Россию...</td>\n",
       "      <td>55923126</td>\n",
       "      <td>Лентач</td>\n",
       "      <td>Михаил</td>\n",
       "      <td>Петров</td>\n",
       "      <td>2</td>\n",
       "      <td>1</td>\n",
       "      <td>143</td>\n",
       "      <td>2017-03-04</td>\n",
       "      <td>78.0</td>\n",
       "      <td>22.197260</td>\n",
       "    </tr>\n",
       "    <tr>\n",
       "      <th>4</th>\n",
       "      <td>29534144_7599582_7599590</td>\n",
       "      <td>None</td>\n",
       "      <td>29534144</td>\n",
       "      <td>СОВЕТСКИЙ ПАНТЕОН</td>\n",
       "      <td>None</td>\n",
       "      <td>7599582</td>\n",
       "      <td>3</td>\n",
       "      <td>📌 Интересно, но читать я это конечно не буду\\n...</td>\n",
       "      <td>193790442</td>\n",
       "      <td>Лентач</td>\n",
       "      <td>Ян</td>\n",
       "      <td>Дауберт</td>\n",
       "      <td>2</td>\n",
       "      <td>65</td>\n",
       "      <td>1964189</td>\n",
       "      <td>2017-11-07</td>\n",
       "      <td>68.0</td>\n",
       "      <td>17.742466</td>\n",
       "    </tr>\n",
       "  </tbody>\n",
       "</table>\n",
       "</div>"
      ],
      "text/plain": [
       "                 comment_id characteristic   club_id              group  note  \\\n",
       "0  29534144_3880487_3881571           None  29534144  СОВЕТСКИЙ ПАНТЕОН  None   \n",
       "1  29534144_4478979_4479424           None  29534144  СОВЕТСКИЙ ПАНТЕОН  None   \n",
       "2  29534144_7913733_7913752           None  29534144  СОВЕТСКИЙ ПАНТЕОН  None   \n",
       "3  29534144_5644674_5644861           None  29534144  СОВЕТСКИЙ ПАНТЕОН  None   \n",
       "4  29534144_7599582_7599590           None  29534144  СОВЕТСКИЙ ПАНТЕОН  None   \n",
       "\n",
       "   post_id  rubric_id                                               text  \\\n",
       "0  3880487          3  \"И было предсказано, что от союза большевиков ...   \n",
       "1  4478979          3  Живёшь такой в элитной квартире в столице в це...   \n",
       "2  7913733          3            Был меньшевиком, стал большевиком)) раз   \n",
       "3  5644674          3  \"они умерли для того,  чтобы мы сделали Россию...   \n",
       "4  7599582          3  📌 Интересно, но читать я это конечно не буду\\n...   \n",
       "\n",
       "     user_id club_name first_name last_name  sex country     city        date  \\\n",
       "0   86410130    Лентач    Aleksey   Apenkin    2       1      586  2016-04-19   \n",
       "1   20112623    Лентач     Никита  Журавлёв    2       1       60  2016-06-17   \n",
       "2   35701127    Лентач   Владимир  Мокренко    2       1       10  2017-12-27   \n",
       "3   55923126    Лентач     Михаил    Петров    2       1      143  2017-03-04   \n",
       "4  193790442    Лентач         Ян   Дауберт    2      65  1964189  2017-11-07   \n",
       "\n",
       "   likes        age  \n",
       "0  383.0  23.473973  \n",
       "1  337.0  21.964384  \n",
       "2  223.0  25.235616  \n",
       "3   78.0  22.197260  \n",
       "4   68.0  17.742466  "
      ]
     },
     "execution_count": 10,
     "metadata": {},
     "output_type": "execute_result"
    }
   ],
   "source": [
    "ddf.head()"
   ]
  },
  {
   "cell_type": "code",
   "execution_count": 12,
   "metadata": {},
   "outputs": [
    {
     "data": {
      "text/plain": [
       "'Большевик*'"
      ]
     },
     "execution_count": 12,
     "metadata": {},
     "output_type": "execute_result"
    }
   ],
   "source": [
    "rubric_name = pd.read_pickle('rubric_names.pickle')[rubric_id]\n",
    "rubric_name"
   ]
  },
  {
   "cell_type": "code",
   "execution_count": 15,
   "metadata": {},
   "outputs": [
    {
     "data": {
      "text/plain": [
       "array(['СОВЕТСКИЙ ПАНТЕОН'], dtype=object)"
      ]
     },
     "execution_count": 15,
     "metadata": {},
     "output_type": "execute_result"
    }
   ],
   "source": [
    "group_name = ddf.group.unique()\n",
    "group_name"
   ]
  }
 ],
 "metadata": {
  "kernelspec": {
   "display_name": "Python 3",
   "language": "python",
   "name": "python3"
  },
  "language_info": {
   "codemirror_mode": {
    "name": "ipython",
    "version": 3
   },
   "file_extension": ".py",
   "mimetype": "text/x-python",
   "name": "python",
   "nbconvert_exporter": "python",
   "pygments_lexer": "ipython3",
   "version": "3.6.4"
  }
 },
 "nbformat": 4,
 "nbformat_minor": 2
}
