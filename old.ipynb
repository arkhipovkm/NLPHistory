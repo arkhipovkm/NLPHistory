{
 "cells": [
  {
   "cell_type": "code",
   "execution_count": 6,
   "metadata": {},
   "outputs": [],
   "source": [
    "import pandas as pd\n",
    "import numpy as np"
   ]
  },
  {
   "cell_type": "code",
   "execution_count": 7,
   "metadata": {
    "scrolled": false
   },
   "outputs": [],
   "source": [
    "df = pd.read_pickle('df_indexed.pickle')\n",
    "rubric_id = 3\n",
    "ddf = df[df.rubric_id==rubric_id].sort_values(by=['likes'], ascending=False).drop_duplicates()\n",
    "ddf['age'] = (ddf.date - ddf.bdate).dt.days/365\n",
    "\n",
    "max_likes = int(max(ddf.likes))\n",
    "mean_likes = int(np.mean(ddf.likes))\n",
    "\n",
    "total_raw = len(ddf)\n",
    "ddf = ddf.reset_index()\n",
    "\n",
    "ddf.date = ddf.date.dt.strftime('%Y-%m-%d')\n",
    "ddf = ddf.drop('bdate', axis=1)\n",
    "group_name = ddf.group.unique()\n",
    "group_name"
   ]
  },
  {
   "cell_type": "code",
   "execution_count": null,
   "metadata": {},
   "outputs": [],
   "source": []
  },
  {
   "cell_type": "code",
   "execution_count": 9,
   "metadata": {},
   "outputs": [],
   "source": [
    "ddf = ddf.reset_index()\n",
    "\n",
    "ddf.date = ddf.date.dt.strftime('%Y-%m-%d')\n",
    "ddf = ddf.drop('bdate', axis=1)"
   ]
  },
  {
   "cell_type": "code",
   "execution_count": 16,
   "metadata": {},
   "outputs": [],
   "source": [
    "ddf['current'] = [x for x in range(len(ddf))]"
   ]
  },
  {
   "cell_type": "code",
   "execution_count": 31,
   "metadata": {},
   "outputs": [],
   "source": [
    "import json"
   ]
  },
  {
   "cell_type": "code",
   "execution_count": 12,
   "metadata": {},
   "outputs": [
    {
     "data": {
      "text/plain": [
       "'Большевик*'"
      ]
     },
     "execution_count": 12,
     "metadata": {},
     "output_type": "execute_result"
    }
   ],
   "source": [
    "rubric_name = pd.read_pickle('rubric_names.pickle')[rubric_id]\n",
    "rubric_name"
   ]
  },
  {
   "cell_type": "code",
   "execution_count": 15,
   "metadata": {},
   "outputs": [
    {
     "data": {
      "text/plain": [
       "array(['СОВЕТСКИЙ ПАНТЕОН'], dtype=object)"
      ]
     },
     "execution_count": 15,
     "metadata": {},
     "output_type": "execute_result"
    }
   ],
   "source": [
    "group_name = ddf.group.unique()\n",
    "group_name"
   ]
  }
 ],
 "metadata": {
  "kernelspec": {
   "display_name": "Python 3",
   "language": "python",
   "name": "python3"
  },
  "language_info": {
   "codemirror_mode": {
    "name": "ipython",
    "version": 3
   },
   "file_extension": ".py",
   "mimetype": "text/x-python",
   "name": "python",
   "nbconvert_exporter": "python",
   "pygments_lexer": "ipython3",
   "version": "3.6.4"
  }
 },
 "nbformat": 4,
 "nbformat_minor": 2
}
